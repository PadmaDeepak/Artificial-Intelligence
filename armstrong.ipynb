{
  "nbformat": 4,
  "nbformat_minor": 0,
  "metadata": {
    "colab": {
      "provenance": [],
      "authorship_tag": "ABX9TyN1SPTC10/0AkyI/zRZx0Xg",
      "include_colab_link": true
    },
    "kernelspec": {
      "name": "python3",
      "display_name": "Python 3"
    },
    "language_info": {
      "name": "python"
    }
  },
  "cells": [
    {
      "cell_type": "markdown",
      "metadata": {
        "id": "view-in-github",
        "colab_type": "text"
      },
      "source": [
        "<a href=\"https://colab.research.google.com/github/PadmaDeepak/Artificial-Intelligence/blob/main/armstrong.ipynb\" target=\"_parent\"><img src=\"https://colab.research.google.com/assets/colab-badge.svg\" alt=\"Open In Colab\"/></a>"
      ]
    },
    {
      "cell_type": "code",
      "execution_count": null,
      "metadata": {
        "colab": {
          "base_uri": "https://localhost:8080/"
        },
        "id": "_pklzo0rW-LW",
        "outputId": "c1e74546-21d9-4490-90dd-caa786e85cae"
      },
      "outputs": [
        {
          "output_type": "stream",
          "name": "stdout",
          "text": [
            "enter no371\n",
            "no\n"
          ]
        }
      ],
      "source": [
        "num= int(input(\"enter no\"))\n",
        "temp=num\n",
        "x=len(str(num))\n",
        "sum=0\n",
        "rem=0\n",
        "\n",
        "while temp!=0:\n",
        "  rem=temp%10\n",
        "  sum+=rem**x\n",
        "  temp=temp//10\n",
        "if sum==temp:\n",
        "  print(\"yes\")\n",
        "else:\n",
        "  print(\"no\")\n"
      ]
    }
  ]
}